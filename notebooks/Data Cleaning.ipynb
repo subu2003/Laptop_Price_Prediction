{
 "cells": [
  {
   "cell_type": "markdown",
   "metadata": {},
   "source": [
    "## Data Cleaning and Preprocessing Notebook\n",
    "\n",
    "This notebook is to be strictly used for data cleaning and preprocessing purposes. Steps:\n",
    "\n",
    "1. Read the dataset\n",
    "2. Handle Missing Values (if any).\n",
    "3. Do visualizations as required\n",
    "4. Explore your data here\n",
    "5. Save the cleaned and processed dataset as `data/final_dataset.csv`.\n",
    "\n",
    "NO MODELLING WILL BE DONE IN THIS NOTEBOOK!"
   ]
  },
  {
   "cell_type": "markdown",
   "metadata": {},
   "source": [
    "Hello world"
   ]
  },
  {
   "cell_type": "code",
   "execution_count": 1,
   "metadata": {},
   "outputs": [],
   "source": [
    "import pandas as pd\n"
   ]
  },
  {
   "cell_type": "markdown",
   "metadata": {},
   "source": [
    "hello"
   ]
  }
 ],
 "metadata": {
  "interpreter": {
   "hash": "ce94928fbfc36a45b1e59c2db18efbb1457e0c45e3b3be39ce1ebfa0481cb842"
  },
  "kernelspec": {
   "display_name": "Python 3.10.2 64-bit",
   "language": "python",
   "name": "python3"
  },
  "language_info": {
   "codemirror_mode": {
    "name": "ipython",
    "version": 3
   },
   "file_extension": ".py",
   "mimetype": "text/x-python",
   "name": "python",
   "nbconvert_exporter": "python",
   "pygments_lexer": "ipython3",
   "version": "3.10.2"
  },
  "orig_nbformat": 4
 },
 "nbformat": 4,
 "nbformat_minor": 2
}
